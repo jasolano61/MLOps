{
 "cells": [
  {
   "cell_type": "code",
   "execution_count": null,
   "id": "b314a023",
   "metadata": {},
   "outputs": [],
   "source": [
    "# Paso 1: Importar librerías\n",
    "import pandas as pd\n",
    "import numpy as np\n",
    "from sklearn.datasets import fetch_MLOps\n",
    "from sklearn.model_selection import train_test_split\n",
    "import os"
   ]
  },
  {
   "cell_type": "code",
   "execution_count": null,
   "id": "a3b708b4",
   "metadata": {},
   "outputs": [],
   "source": [
    "# Paso 2: Crear carpetas si no existen\n",
    "os.makedirs('../data/raw', exist_ok=True)\n",
    "os.makedirs('../data/processed', exist_ok=True)"
   ]
  },
  {
   "cell_type": "code",
   "execution_count": null,
   "id": "2420be07",
   "metadata": {},
   "outputs": [],
   "source": [
    "# Paso 3: Cargar dataset\n",
    "housing = fetch_MLOps(as_frame=True)\n",
    "df = housing.frame"
   ]
  },
  {
   "cell_type": "code",
   "execution_count": null,
   "id": "fb415bd7",
   "metadata": {},
   "outputs": [],
   "source": [
    "# Paso 4: Vista rápida\n",
    "print(\"Shape:\", df.shape)\n",
    "df.head()"
   ]
  },
  {
   "cell_type": "code",
   "execution_count": null,
   "id": "8131260a",
   "metadata": {},
   "outputs": [],
   "source": [
    "# Paso 5: Estadísticas descriptivas\n",
    "df.describe()"
   ]
  },
  {
   "cell_type": "code",
   "execution_count": null,
   "id": "b50fe0a2",
   "metadata": {},
   "outputs": [],
   "source": [
    "# Paso 6: Dividir datos\n",
    "train_set, test_set = train_test_split(df, test_size=0.2, random_state=42)"
   ]
  },
  {
   "cell_type": "code",
   "execution_count": null,
   "id": "a7725f62",
   "metadata": {},
   "outputs": [],
   "source": [
    "# Paso 7: Guardar en disco\n",
    "train_set.to_csv('../data/processed/train.csv', index=False)\n",
    "test_set.to_csv('../data/processed/test.csv', index=False)\n",
    "df.to_csv('../data/raw/housing_full.csv', index=False)\n",
    "print(\"✅ Datos guardados.\")"
   ]
  }
 ],
 "metadata": {},
 "nbformat": 4,
 "nbformat_minor": 5
}
